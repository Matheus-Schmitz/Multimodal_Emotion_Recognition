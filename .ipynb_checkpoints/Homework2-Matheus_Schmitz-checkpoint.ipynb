{
 "cells": [
  {
   "cell_type": "markdown",
   "id": "06276bcf",
   "metadata": {},
   "source": [
    "# Homework 2\n",
    "\n",
    "Matheus Schmitz  \n",
    "USC ID: 5039286453  \n",
    "mschmitz@usc.edu   "
   ]
  },
  {
   "cell_type": "markdown",
   "id": "4edb1ed8",
   "metadata": {},
   "source": [
    "## Imports"
   ]
  },
  {
   "cell_type": "code",
   "execution_count": 61,
   "id": "12d1cc51",
   "metadata": {},
   "outputs": [],
   "source": [
    "# Data Manipulation\n",
    "import numpy as np\n",
    "import pandas as pd\n",
    "import pickle\n",
    "\n",
    "# Machine Learning\n",
    "import tensorflow as tf\n",
    "from tensorflow.keras.models import Sequential\n",
    "from tensorflow.keras.layers import Dense, Conv2D, Flatten, MaxPool2D, Reshape, Softmax, Dropout, LSTM, InputLayer\n",
    "from tensorflow.keras.callbacks import ModelCheckpoint, ReduceLROnPlateau, CSVLogger, EarlyStopping\n",
    "from sklearn.metrics import f1_score, accuracy_score, confusion_matrix"
   ]
  },
  {
   "cell_type": "markdown",
   "id": "c72d7755",
   "metadata": {},
   "source": [
    "## Load Data"
   ]
  },
  {
   "cell_type": "code",
   "execution_count": 45,
   "id": "4a3e6306",
   "metadata": {},
   "outputs": [],
   "source": [
    "# Unpickle data\n",
    "with open('cremad_openface_mfcc.pkl', 'rb') as f_in:\n",
    "    data = pickle.load(f_in)"
   ]
  },
  {
   "cell_type": "code",
   "execution_count": 46,
   "id": "d261f538",
   "metadata": {},
   "outputs": [],
   "source": [
    "# Train\n",
    "df_train = pd.DataFrame(data['train']).T\n",
    "mfcc_train = df_train[0].to_numpy()\n",
    "au_train =  df_train[1].to_numpy()\n",
    "label_train = df_train[2].to_numpy()\n",
    "\n",
    "# Validation\n",
    "df_valid = pd.DataFrame(data['val']).T\n",
    "mfcc_valid = df_valid[0].to_numpy()\n",
    "au_valid =  df_valid[1].to_numpy()\n",
    "label_valid = df_valid[2].to_numpy()\n",
    "\n",
    "# Test\n",
    "df_test = pd.DataFrame(data['test']).T\n",
    "mfcc_test = df_test[0].to_numpy()\n",
    "au_test =  df_test[1].to_numpy()\n",
    "label_test = df_test[2].to_numpy()"
   ]
  },
  {
   "cell_type": "code",
   "execution_count": 54,
   "id": "808fe097",
   "metadata": {},
   "outputs": [],
   "source": [
    "# Shape\n",
    "NUM_MFCCS = mfcc_train[0].shape[1]"
   ]
  },
  {
   "cell_type": "markdown",
   "id": "e79ed7c4",
   "metadata": {},
   "source": [
    "## Task 1: Acoustic Unimodal"
   ]
  },
  {
   "cell_type": "code",
   "execution_count": 73,
   "id": "bb056932",
   "metadata": {},
   "outputs": [
    {
     "name": "stdout",
     "output_type": "stream",
     "text": [
      "Model: \"sequential_14\"\n",
      "_________________________________________________________________\n",
      "Layer (type)                 Output Shape              Param #   \n",
      "=================================================================\n",
      "Total params: 0\n",
      "Trainable params: 0\n",
      "Non-trainable params: 0\n",
      "_________________________________________________________________\n"
     ]
    }
   ],
   "source": [
    "model_1 = Sequential()\n",
    "model_1.add(InputLayer(input_shape=(None, 52)))\n",
    "#model_1.add(LSTM(128))\n",
    "\n",
    "\n",
    "model_1.summary()"
   ]
  },
  {
   "cell_type": "code",
   "execution_count": null,
   "id": "374b3155",
   "metadata": {},
   "outputs": [],
   "source": []
  },
  {
   "cell_type": "code",
   "execution_count": null,
   "id": "d8a8623a",
   "metadata": {},
   "outputs": [],
   "source": []
  },
  {
   "cell_type": "code",
   "execution_count": null,
   "id": "bd92a026",
   "metadata": {},
   "outputs": [],
   "source": [
    "!pip install --upgrade tensorflow"
   ]
  },
  {
   "cell_type": "code",
   "execution_count": null,
   "id": "4ff9cafd",
   "metadata": {},
   "outputs": [],
   "source": []
  },
  {
   "cell_type": "code",
   "execution_count": 43,
   "id": "f4679aa5",
   "metadata": {},
   "outputs": [],
   "source": []
  },
  {
   "cell_type": "code",
   "execution_count": 44,
   "id": "267020bd",
   "metadata": {},
   "outputs": [],
   "source": []
  },
  {
   "cell_type": "code",
   "execution_count": null,
   "id": "96f911fb",
   "metadata": {},
   "outputs": [],
   "source": []
  }
 ],
 "metadata": {
  "kernelspec": {
   "display_name": "Python 3",
   "language": "python",
   "name": "python3"
  },
  "language_info": {
   "codemirror_mode": {
    "name": "ipython",
    "version": 3
   },
   "file_extension": ".py",
   "mimetype": "text/x-python",
   "name": "python",
   "nbconvert_exporter": "python",
   "pygments_lexer": "ipython3",
   "version": "3.7.10"
  }
 },
 "nbformat": 4,
 "nbformat_minor": 5
}
