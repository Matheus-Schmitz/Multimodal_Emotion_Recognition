{
 "cells": [
  {
   "cell_type": "markdown",
   "id": "dee3833a",
   "metadata": {},
   "source": [
    "# Homework 1\n",
    "\n",
    "Matheus Schmitz  \n",
    "USC ID: 5039286453  \n",
    "mschmitz@usc.edu   "
   ]
  },
  {
   "cell_type": "markdown",
   "id": "1350a59e",
   "metadata": {},
   "source": [
    "### Imports"
   ]
  },
  {
   "cell_type": "code",
   "execution_count": 1,
   "id": "9a36e591",
   "metadata": {},
   "outputs": [
    {
     "name": "stderr",
     "output_type": "stream",
     "text": [
      "C:\\Users\\Matheus\\Anaconda3\\lib\\site-packages\\numpy\\_distributor_init.py:32: UserWarning: loaded more than 1 DLL from .libs:\n",
      "C:\\Users\\Matheus\\Anaconda3\\lib\\site-packages\\numpy\\.libs\\libopenblas.WCDJNK7YVMPZQ2ME2ZZHJJRJ3JIKNDB7.gfortran-win_amd64.dll\n",
      "C:\\Users\\Matheus\\Anaconda3\\lib\\site-packages\\numpy\\.libs\\libopenblas.XWYDX2IKJW2NMTWSFYNGFUWKQU3LYTCZ.gfortran-win_amd64.dll\n",
      "  stacklevel=1)\n"
     ]
    }
   ],
   "source": [
    "import numpy as np\n",
    "import pandas as pd\n",
    "pd.options.display.max_columns = 30\n",
    "pd.options.display.float_format = '{:.8f}'.format\n",
    "from statsmodels.stats.inter_rater import fleiss_kappa as statsmodels_fleiss_kappa\n",
    "from statsmodels.stats.weightstats import ttest_ind"
   ]
  },
  {
   "cell_type": "markdown",
   "id": "385be302",
   "metadata": {},
   "source": [
    "## Task 1"
   ]
  },
  {
   "cell_type": "markdown",
   "id": "fcccf9aa",
   "metadata": {},
   "source": [
    "Compute the Fleiss’ kappa inter-annotator agreement on the set of videos in the provided **tabulatedVotes.csv**  \n",
    "Report and interpret the results using Table 1.  "
   ]
  },
  {
   "cell_type": "code",
   "execution_count": 2,
   "id": "2bb24746",
   "metadata": {},
   "outputs": [],
   "source": [
    "# Custom function to calculate Fleiss' Kappa\n",
    "def fleiss_kappa(table):\n",
    "\n",
    "    # N = number of items | k = number of categories\n",
    "    N, k = table.shape\n",
    "\n",
    "    # n = number of ratings per item, assume a complete matrix, aka all items have the same number of ratings\n",
    "    n_max = table.sum(axis='columns').max()\n",
    "    n_min = table.sum(axis='columns').min()\n",
    "    assert n_max == n_min, \"Complete Matrix Required: All items must have the same number of votes.\"\n",
    "    n = n_max\n",
    "\n",
    "    # p_j = (1/Nn) * (sum{i=1,...,N} n_ij)\n",
    "    p_j = table.sum(axis='rows') / (N * n)\n",
    "    assert all(df_votes.apply(lambda row: sum(row)/n, axis='columns') == 1), \"Complete Matrix Required: All items must have the same number of votes.\"\n",
    "    assert p_j.sum() == 1, \"Sum of baseline probabilities must add to 1.\"\n",
    "    \n",
    "    # P_i = 1/(n*(n-1)) * [(sum{j=1,...,k} (n_ij)^2) - n]\n",
    "    P_i = ((table**2).sum(axis='columns') - n) / ((n) * (n-1))\n",
    "\n",
    "    # P_bar = 1/N * (sum{i=1,...,N} P_i)\n",
    "    P_bar = P_i.sum() / N\n",
    "\n",
    "    # Pe_bar = sum{j=1,...,k} (p_j)^2\n",
    "    Pe_bar = (p_j**2).sum()\n",
    "\n",
    "    # Fleiss' kappa = (P_bar - Pe_bar) / (1 - Pe_bar)\n",
    "    kappa = (P_bar - Pe_bar) / (1 - Pe_bar)\n",
    "    \n",
    "    return kappa"
   ]
  },
  {
   "cell_type": "code",
   "execution_count": 3,
   "id": "95a93e84",
   "metadata": {},
   "outputs": [
    {
     "data": {
      "text/html": [
       "<div>\n",
       "<style scoped>\n",
       "    .dataframe tbody tr th:only-of-type {\n",
       "        vertical-align: middle;\n",
       "    }\n",
       "\n",
       "    .dataframe tbody tr th {\n",
       "        vertical-align: top;\n",
       "    }\n",
       "\n",
       "    .dataframe thead th {\n",
       "        text-align: right;\n",
       "    }\n",
       "</style>\n",
       "<table border=\"1\" class=\"dataframe\">\n",
       "  <thead>\n",
       "    <tr style=\"text-align: right;\">\n",
       "      <th></th>\n",
       "      <th>A</th>\n",
       "      <th>D</th>\n",
       "      <th>F</th>\n",
       "      <th>H</th>\n",
       "      <th>N</th>\n",
       "      <th>S</th>\n",
       "    </tr>\n",
       "    <tr>\n",
       "      <th>Unnamed: 0</th>\n",
       "      <th></th>\n",
       "      <th></th>\n",
       "      <th></th>\n",
       "      <th></th>\n",
       "      <th></th>\n",
       "      <th></th>\n",
       "    </tr>\n",
       "  </thead>\n",
       "  <tbody>\n",
       "    <tr>\n",
       "      <th>100001</th>\n",
       "      <td>0</td>\n",
       "      <td>0</td>\n",
       "      <td>0</td>\n",
       "      <td>1</td>\n",
       "      <td>10</td>\n",
       "      <td>0</td>\n",
       "    </tr>\n",
       "    <tr>\n",
       "      <th>100003</th>\n",
       "      <td>0</td>\n",
       "      <td>0</td>\n",
       "      <td>0</td>\n",
       "      <td>4</td>\n",
       "      <td>7</td>\n",
       "      <td>0</td>\n",
       "    </tr>\n",
       "    <tr>\n",
       "      <th>100012</th>\n",
       "      <td>0</td>\n",
       "      <td>3</td>\n",
       "      <td>5</td>\n",
       "      <td>0</td>\n",
       "      <td>3</td>\n",
       "      <td>0</td>\n",
       "    </tr>\n",
       "    <tr>\n",
       "      <th>100013</th>\n",
       "      <td>2</td>\n",
       "      <td>3</td>\n",
       "      <td>3</td>\n",
       "      <td>1</td>\n",
       "      <td>2</td>\n",
       "      <td>0</td>\n",
       "    </tr>\n",
       "    <tr>\n",
       "      <th>100014</th>\n",
       "      <td>0</td>\n",
       "      <td>2</td>\n",
       "      <td>1</td>\n",
       "      <td>0</td>\n",
       "      <td>7</td>\n",
       "      <td>1</td>\n",
       "    </tr>\n",
       "  </tbody>\n",
       "</table>\n",
       "</div>"
      ],
      "text/plain": [
       "            A  D  F  H   N  S\n",
       "Unnamed: 0                   \n",
       "100001      0  0  0  1  10  0\n",
       "100003      0  0  0  4   7  0\n",
       "100012      0  3  5  0   3  0\n",
       "100013      2  3  3  1   2  0\n",
       "100014      0  2  1  0   7  1"
      ]
     },
     "execution_count": 3,
     "metadata": {},
     "output_type": "execute_result"
    }
   ],
   "source": [
    "# Load data\n",
    "df = pd.read_csv('tabulatedVotes.csv', index_col='Unnamed: 0')\n",
    "df_votes = df[['A', 'D', 'F', 'H', 'N', 'S']]\n",
    "df_votes.head()"
   ]
  },
  {
   "cell_type": "code",
   "execution_count": 4,
   "id": "f9c20ce5",
   "metadata": {},
   "outputs": [
    {
     "name": "stdout",
     "output_type": "stream",
     "text": [
      "Fleiss' kappa: 0.4802678299370798\n",
      "Statsmodels: 0.4802678299370798\n"
     ]
    }
   ],
   "source": [
    "# Run my function to calculate Fleiss' kappa\n",
    "kappa = fleiss_kappa(df_votes)\n",
    "print(f\"Fleiss' kappa: {kappa}\")\n",
    "\n",
    "# Run the statsmodels implementation to check if my results are accurate\n",
    "kappa_sm = statsmodels_fleiss_kappa(df_votes)\n",
    "print(f\"Statsmodels: {kappa_sm}\")"
   ]
  },
  {
   "cell_type": "markdown",
   "id": "3b01cf83",
   "metadata": {},
   "source": [
    "For this dataset the inter-rater agreement, as measured by Fleiss' kappa, is 0.48, which, according to table 1, can be considered a *moderate agreement*."
   ]
  },
  {
   "cell_type": "markdown",
   "id": "3b96ed91",
   "metadata": {},
   "source": [
    "## Task 2"
   ]
  },
  {
   "cell_type": "markdown",
   "id": "a3177737",
   "metadata": {},
   "source": [
    "Now go through the videos and pay attention to both verbal and nonverbal behaviors. Note one audio and one\n",
    "visual cue which you believe to have correlations with ANGRY, HAPPY, and SAD. For example ”downward\n",
    "gaze” may have a positive correlation with the SAD emotion. Don’t limit yourself to one modality when\n",
    "selecting the behavioral cues."
   ]
  },
  {
   "cell_type": "markdown",
   "id": "acc9b22d",
   "metadata": {},
   "source": [
    "**Answer:**  \n",
    "To me it seems that ANGRY people are distinguisable visually by a \"raising eyebrows\" movement, and also distinguishable auditorily by \"accelerated talking speed\".  \n",
    "Also, even though in class we spoke about how depressed people don't smile less often, just less intensely, I nevertheless get the impression that the HAPPY people both smile more and also squint their eyes more. Some HAPPY people also user a higher pitch.  \n",
    "Then, for SAD most seem to have a much lower voice volume as well as blinking more."
   ]
  },
  {
   "cell_type": "markdown",
   "id": "f7a90674",
   "metadata": {},
   "source": [
    "## Task 3"
   ]
  },
  {
   "cell_type": "markdown",
   "id": "5979306f",
   "metadata": {},
   "source": [
    "Confirm your suspicions and subjective observations from the previous task with statistical analysis and by\n",
    "using the expert annotations. You can do this by manually annotating the videos for each specific behavior\n",
    "and performing correlation analysis. You need to annotate and calculate the p-value from the Student t-test\n",
    "between the group of videos with emotion X and the group of videos without emotion X. You can use the\n",
    "emotions in the video names as the labels (e.g. the emotion for the video 1001 IEO ANG HI is ANGRY). For\n",
    "simplicity, pick 2 of your observations from above (different emotions), annotate 20 videos of different subjects\n",
    "(for each emotion), and save your annotations in a .csv file. The the file should have 40 rows and 3 columns:\n",
    "filename, observation1(boolean), observation2(boolean)."
   ]
  },
  {
   "cell_type": "markdown",
   "id": "a7039406",
   "metadata": {},
   "source": [
    "**Answer:**   \n",
    "I chose to label 3 cues, namely \"raising eyebrows', \"accelerated talking speed\", and \"squints eyes\".  \n",
    "I also chose to label all threee emotions, meaning my .csv file has 4 columns (one extra for the extra cue), and 60 rows (20 for each emotion)."
   ]
  },
  {
   "cell_type": "code",
   "execution_count": 5,
   "id": "f27f3ce5",
   "metadata": {},
   "outputs": [
    {
     "name": "stdout",
     "output_type": "stream",
     "text": [
      "(60, 5)\n"
     ]
    },
    {
     "data": {
      "text/html": [
       "<div>\n",
       "<style scoped>\n",
       "    .dataframe tbody tr th:only-of-type {\n",
       "        vertical-align: middle;\n",
       "    }\n",
       "\n",
       "    .dataframe tbody tr th {\n",
       "        vertical-align: top;\n",
       "    }\n",
       "\n",
       "    .dataframe thead th {\n",
       "        text-align: right;\n",
       "    }\n",
       "</style>\n",
       "<table border=\"1\" class=\"dataframe\">\n",
       "  <thead>\n",
       "    <tr style=\"text-align: right;\">\n",
       "      <th></th>\n",
       "      <th>Video Name</th>\n",
       "      <th>Raising Eyebrows</th>\n",
       "      <th>Accelerated Talking Speed</th>\n",
       "      <th>Squints Eyes</th>\n",
       "      <th>label</th>\n",
       "    </tr>\n",
       "  </thead>\n",
       "  <tbody>\n",
       "    <tr>\n",
       "      <th>0</th>\n",
       "      <td>1091_IEO_SAD_HI</td>\n",
       "      <td>0</td>\n",
       "      <td>0</td>\n",
       "      <td>0</td>\n",
       "      <td>SAD</td>\n",
       "    </tr>\n",
       "    <tr>\n",
       "      <th>1</th>\n",
       "      <td>1091_IEO_HAP_HI</td>\n",
       "      <td>1</td>\n",
       "      <td>1</td>\n",
       "      <td>1</td>\n",
       "      <td>HAP</td>\n",
       "    </tr>\n",
       "    <tr>\n",
       "      <th>2</th>\n",
       "      <td>1091_IEO_ANG_HI</td>\n",
       "      <td>1</td>\n",
       "      <td>0</td>\n",
       "      <td>0</td>\n",
       "      <td>ANG</td>\n",
       "    </tr>\n",
       "    <tr>\n",
       "      <th>3</th>\n",
       "      <td>1090_IEO_SAD_HI</td>\n",
       "      <td>0</td>\n",
       "      <td>0</td>\n",
       "      <td>0</td>\n",
       "      <td>SAD</td>\n",
       "    </tr>\n",
       "    <tr>\n",
       "      <th>4</th>\n",
       "      <td>1090_IEO_HAP_HI</td>\n",
       "      <td>1</td>\n",
       "      <td>0</td>\n",
       "      <td>0</td>\n",
       "      <td>HAP</td>\n",
       "    </tr>\n",
       "  </tbody>\n",
       "</table>\n",
       "</div>"
      ],
      "text/plain": [
       "        Video Name  Raising Eyebrows  Accelerated Talking Speed  Squints Eyes  \\\n",
       "0  1091_IEO_SAD_HI                 0                          0             0   \n",
       "1  1091_IEO_HAP_HI                 1                          1             1   \n",
       "2  1091_IEO_ANG_HI                 1                          0             0   \n",
       "3  1090_IEO_SAD_HI                 0                          0             0   \n",
       "4  1090_IEO_HAP_HI                 1                          0             0   \n",
       "\n",
       "  label  \n",
       "0   SAD  \n",
       "1   HAP  \n",
       "2   ANG  \n",
       "3   SAD  \n",
       "4   HAP  "
      ]
     },
     "execution_count": 5,
     "metadata": {},
     "output_type": "execute_result"
    }
   ],
   "source": [
    "# Load csv\n",
    "labels = pd.read_csv('manual_labels.csv')\n",
    "\n",
    "# Extract label from file name\n",
    "labels['label'] = labels.apply(lambda row: row['Video Name'].split('_')[2], axis='columns')\n",
    "\n",
    "print(labels.shape)\n",
    "labels.head()"
   ]
  },
  {
   "cell_type": "code",
   "execution_count": 6,
   "id": "0d5d7bb0",
   "metadata": {},
   "outputs": [],
   "source": [
    "### statsmodels.stats.weightstats.ttest_ind ###\n",
    "# Returns\n",
    "\n",
    "# tstat: float\n",
    "# test statistic\n",
    "\n",
    "# pvalue: float\n",
    "# pvalue of the t-test\n",
    "\n",
    "# df: int or float\n",
    "# degrees of freedom used in the t-test"
   ]
  },
  {
   "cell_type": "code",
   "execution_count": 7,
   "id": "00e8a9a9",
   "metadata": {},
   "outputs": [],
   "source": [
    "# Run all pairwise tests\n",
    "results = pd.DataFrame(columns=['ANG', 'HAP', 'SAD', 'cue', 'tstat', 'pvalue', 'df'])\n",
    "emotions = ['ANG', 'HAP', 'SAD']\n",
    "cues = ['Raising Eyebrows', 'Accelerated Talking Speed', 'Squints Eyes']\n",
    "\n",
    "# Compare all pairwise emotions (but not against itself)\n",
    "for emotion1 in emotions:\n",
    "    for emotion2 in emotions:\n",
    "        # Only compare emotions if emotion1 comes first alphatically, this avoids duplicated comparisons\n",
    "        if emotion1 >= emotion2:\n",
    "            continue\n",
    "        \n",
    "        # Compare over all cues\n",
    "        for cue in cues:\n",
    "        \n",
    "            # Select samples\n",
    "            samples1 = labels[labels['label'] == emotion1][cue]\n",
    "            samples2 = labels[labels['label'] == emotion2][cue]\n",
    "            \n",
    "            # Run Student t-test\n",
    "            tstat, pvalue, df = ttest_ind(samples1, samples2)\n",
    "            \n",
    "            # Store results\n",
    "            new_entry = {emotion1: 1,\n",
    "                         emotion2: 1,\n",
    "                         'cue': cue,\n",
    "                         'tstat': tstat,\n",
    "                         'pvalue': pvalue,\n",
    "                         'df': df}\n",
    "            results = results.append(new_entry, ignore_index=True)\n",
    "\n",
    "# Assing 0 to the third emotion which was not compared\n",
    "results.fillna(0, inplace=True)\n",
    "results[emotions + ['df']] = results[emotions + ['df']].astype(int)"
   ]
  },
  {
   "cell_type": "markdown",
   "id": "e0075c6b",
   "metadata": {},
   "source": [
    "## Task 4"
   ]
  },
  {
   "cell_type": "markdown",
   "id": "578a4caf",
   "metadata": {},
   "source": [
    "**Statistically Significant Results**"
   ]
  },
  {
   "cell_type": "code",
   "execution_count": 8,
   "id": "f85a8778",
   "metadata": {},
   "outputs": [
    {
     "data": {
      "text/html": [
       "<div>\n",
       "<style scoped>\n",
       "    .dataframe tbody tr th:only-of-type {\n",
       "        vertical-align: middle;\n",
       "    }\n",
       "\n",
       "    .dataframe tbody tr th {\n",
       "        vertical-align: top;\n",
       "    }\n",
       "\n",
       "    .dataframe thead th {\n",
       "        text-align: right;\n",
       "    }\n",
       "</style>\n",
       "<table border=\"1\" class=\"dataframe\">\n",
       "  <thead>\n",
       "    <tr style=\"text-align: right;\">\n",
       "      <th></th>\n",
       "      <th>ANG</th>\n",
       "      <th>HAP</th>\n",
       "      <th>SAD</th>\n",
       "      <th>cue</th>\n",
       "      <th>tstat</th>\n",
       "      <th>pvalue</th>\n",
       "      <th>df</th>\n",
       "    </tr>\n",
       "  </thead>\n",
       "  <tbody>\n",
       "    <tr>\n",
       "      <th>2</th>\n",
       "      <td>1</td>\n",
       "      <td>1</td>\n",
       "      <td>0</td>\n",
       "      <td>Squints Eyes</td>\n",
       "      <td>-6.29420537</td>\n",
       "      <td>0.00000022</td>\n",
       "      <td>38</td>\n",
       "    </tr>\n",
       "    <tr>\n",
       "      <th>3</th>\n",
       "      <td>1</td>\n",
       "      <td>0</td>\n",
       "      <td>1</td>\n",
       "      <td>Raising Eyebrows</td>\n",
       "      <td>3.23564333</td>\n",
       "      <td>0.00251622</td>\n",
       "      <td>38</td>\n",
       "    </tr>\n",
       "    <tr>\n",
       "      <th>4</th>\n",
       "      <td>1</td>\n",
       "      <td>0</td>\n",
       "      <td>1</td>\n",
       "      <td>Accelerated Talking Speed</td>\n",
       "      <td>3.55902608</td>\n",
       "      <td>0.00101913</td>\n",
       "      <td>38</td>\n",
       "    </tr>\n",
       "    <tr>\n",
       "      <th>6</th>\n",
       "      <td>0</td>\n",
       "      <td>1</td>\n",
       "      <td>1</td>\n",
       "      <td>Raising Eyebrows</td>\n",
       "      <td>2.84722087</td>\n",
       "      <td>0.00707579</td>\n",
       "      <td>38</td>\n",
       "    </tr>\n",
       "    <tr>\n",
       "      <th>7</th>\n",
       "      <td>0</td>\n",
       "      <td>1</td>\n",
       "      <td>1</td>\n",
       "      <td>Accelerated Talking Speed</td>\n",
       "      <td>3.55902608</td>\n",
       "      <td>0.00101913</td>\n",
       "      <td>38</td>\n",
       "    </tr>\n",
       "    <tr>\n",
       "      <th>8</th>\n",
       "      <td>0</td>\n",
       "      <td>1</td>\n",
       "      <td>1</td>\n",
       "      <td>Squints Eyes</td>\n",
       "      <td>6.29420537</td>\n",
       "      <td>0.00000022</td>\n",
       "      <td>38</td>\n",
       "    </tr>\n",
       "  </tbody>\n",
       "</table>\n",
       "</div>"
      ],
      "text/plain": [
       "   ANG  HAP  SAD                        cue       tstat     pvalue  df\n",
       "2    1    1    0               Squints Eyes -6.29420537 0.00000022  38\n",
       "3    1    0    1           Raising Eyebrows  3.23564333 0.00251622  38\n",
       "4    1    0    1  Accelerated Talking Speed  3.55902608 0.00101913  38\n",
       "6    0    1    1           Raising Eyebrows  2.84722087 0.00707579  38\n",
       "7    0    1    1  Accelerated Talking Speed  3.55902608 0.00101913  38\n",
       "8    0    1    1               Squints Eyes  6.29420537 0.00000022  38"
      ]
     },
     "metadata": {},
     "output_type": "display_data"
    },
    {
     "name": "stdout",
     "output_type": "stream",
     "text": [
      "ANG vs HAP has 1 significant cues\n",
      "ANG vs SAD has 2 significant cues\n",
      "HAP vs SAD has 3 significant cues\n",
      "\n",
      "Number of significant tests per cue:\n"
     ]
    },
    {
     "data": {
      "text/plain": [
       "Squints Eyes                 2\n",
       "Raising Eyebrows             2\n",
       "Accelerated Talking Speed    2\n",
       "Name: cue, dtype: int64"
      ]
     },
     "metadata": {},
     "output_type": "display_data"
    }
   ],
   "source": [
    "# Check statistically significant results\n",
    "significant = results[results['pvalue'] < 0.05]\n",
    "display(significant)\n",
    "\n",
    "# Compare all pairwise emotions (but not against itself)\n",
    "for emotion1 in emotions:\n",
    "    for emotion2 in emotions:\n",
    "        # Only compare emotions if the emotion1 comes first alphatically, this avoids duplicated comparisons\n",
    "        if emotion1 >= emotion2:\n",
    "            continue\n",
    "        count = significant[(significant[emotion1]==1) & (significant[emotion2]==1)].shape[0]\n",
    "        print(f'{emotion1} vs {emotion2} has {count} significant cues')\n",
    "\n",
    "print()\n",
    "print(\"Number of significant tests per cue:\")\n",
    "display(significant['cue'].value_counts())"
   ]
  },
  {
   "cell_type": "markdown",
   "id": "5b4ca241",
   "metadata": {},
   "source": [
    "**Non-Statistically Significant Results**"
   ]
  },
  {
   "cell_type": "code",
   "execution_count": 9,
   "id": "34681eff",
   "metadata": {},
   "outputs": [
    {
     "data": {
      "text/html": [
       "<div>\n",
       "<style scoped>\n",
       "    .dataframe tbody tr th:only-of-type {\n",
       "        vertical-align: middle;\n",
       "    }\n",
       "\n",
       "    .dataframe tbody tr th {\n",
       "        vertical-align: top;\n",
       "    }\n",
       "\n",
       "    .dataframe thead th {\n",
       "        text-align: right;\n",
       "    }\n",
       "</style>\n",
       "<table border=\"1\" class=\"dataframe\">\n",
       "  <thead>\n",
       "    <tr style=\"text-align: right;\">\n",
       "      <th></th>\n",
       "      <th>ANG</th>\n",
       "      <th>HAP</th>\n",
       "      <th>SAD</th>\n",
       "      <th>cue</th>\n",
       "      <th>tstat</th>\n",
       "      <th>pvalue</th>\n",
       "      <th>df</th>\n",
       "    </tr>\n",
       "  </thead>\n",
       "  <tbody>\n",
       "    <tr>\n",
       "      <th>0</th>\n",
       "      <td>1</td>\n",
       "      <td>1</td>\n",
       "      <td>0</td>\n",
       "      <td>Raising Eyebrows</td>\n",
       "      <td>0.31214724</td>\n",
       "      <td>0.75663507</td>\n",
       "      <td>38</td>\n",
       "    </tr>\n",
       "    <tr>\n",
       "      <th>1</th>\n",
       "      <td>1</td>\n",
       "      <td>1</td>\n",
       "      <td>0</td>\n",
       "      <td>Accelerated Talking Speed</td>\n",
       "      <td>0.00000000</td>\n",
       "      <td>1.00000000</td>\n",
       "      <td>38</td>\n",
       "    </tr>\n",
       "    <tr>\n",
       "      <th>5</th>\n",
       "      <td>1</td>\n",
       "      <td>0</td>\n",
       "      <td>1</td>\n",
       "      <td>Squints Eyes</td>\n",
       "      <td>0.00000000</td>\n",
       "      <td>1.00000000</td>\n",
       "      <td>38</td>\n",
       "    </tr>\n",
       "  </tbody>\n",
       "</table>\n",
       "</div>"
      ],
      "text/plain": [
       "   ANG  HAP  SAD                        cue      tstat     pvalue  df\n",
       "0    1    1    0           Raising Eyebrows 0.31214724 0.75663507  38\n",
       "1    1    1    0  Accelerated Talking Speed 0.00000000 1.00000000  38\n",
       "5    1    0    1               Squints Eyes 0.00000000 1.00000000  38"
      ]
     },
     "metadata": {},
     "output_type": "display_data"
    },
    {
     "name": "stdout",
     "output_type": "stream",
     "text": [
      "ANG vs HAP has 2 non-significant cues\n",
      "ANG vs SAD has 1 non-significant cues\n",
      "HAP vs SAD has 0 non-significant cues\n",
      "\n",
      "Number of non-significant tests per cue:\n"
     ]
    },
    {
     "data": {
      "text/plain": [
       "Raising Eyebrows             1\n",
       "Accelerated Talking Speed    1\n",
       "Squints Eyes                 1\n",
       "Name: cue, dtype: int64"
      ]
     },
     "metadata": {},
     "output_type": "display_data"
    }
   ],
   "source": [
    "# Check NOT statistically significant results\n",
    "not_significant = results[results['pvalue'] >= 0.05]\n",
    "display(not_significant)\n",
    "\n",
    "# Compare all pairwise emotions (but not against itself)\n",
    "for emotion1 in emotions:\n",
    "    for emotion2 in emotions:\n",
    "        # Only compare emotions if the emotion1 comes first alphatically, this avoids duplicated comparisons\n",
    "        if emotion1 >= emotion2:\n",
    "            continue\n",
    "        count = not_significant[(not_significant[emotion1]==1) & (not_significant[emotion2]==1)].shape[0]\n",
    "        print(f'{emotion1} vs {emotion2} has {count} non-significant cues')\n",
    "        \n",
    "print()\n",
    "print(\"Number of non-significant tests per cue:\")\n",
    "display(not_significant['cue'].value_counts())"
   ]
  },
  {
   "cell_type": "markdown",
   "id": "90218f22",
   "metadata": {},
   "source": [
    "### Conclusion\n",
    "\n",
    "**Task 2**  \n",
    "To me it seems that ANGRY people are distinguisable visually by a \"raising eyebrows\" movement, and also distinguishable auditorily by \"accelerated talking speed\".  \n",
    "Also, even though in class we spoke about how depressed people don't smile less often, just less intensely, I nevertheless get the impression that the HAPPY people both smile more and also squint their eyes more. Some HAPPY people also user a higher pitch.  \n",
    "Then, for SAD most seem to have a much lower voice volume as well as blinking more.  \n",
    "\n",
    "**Task 3**  \n",
    "I chose to label 3 cues, namely \"raising eyebrows', \"accelerated talking speed\", and \"squints eyes\".  \n",
    "I also chose to label all threee emotions, meaning my .csv file has 4 columns (one extra for the extra cue), and 60 rows (20 for each emotion).\n",
    "\n",
    "**Task 4**  \n",
    "We observe that using the selected cues, we are able to consistently differentiate between HAPPY and SAD emotions, with all cues being statistically significant.  \n",
    "Between ANGRY and SAD we find that *Raising Eyebrows* and *Accelerated Talking Speed* can distinguish the emotions with statistical significant, whereas *Squints Eyes* cannot.  \n",
    "Lastly, ANGRY and HAPPY are the hardest emotions to distinguish with the chosen cues, with only *Squints Eyes* being significant.  \n",
    "Globally we find that SAD could be statistically identified based on the selected features 5 times, being the most identifiable emotion. It is followed by HAPPY with 4 significant tests. Lastly ANGER has only 3 significant tests, meaning it was involed in all tests that failed to obtain statistical significance.  \n",
    "\n",
    "Overall we find that each of the chosen cues is statistically significant in two comparions, and not significant in one.  \n",
    "It is also interesting to note that *Squints Eyes* has the most confident p-values, which are either very large (1.0) or very small(2.2e^-7), while on the other hand *Raising Eyebrows* has the least confident p-values, being at most 0.757 and at least 2.5e^-3, which, while significant, is nevertheless orders of magnitude less significant *Squints Eyes* and 2.5x less significant than *Accelerated Talking Speed* .    \n",
    "Based on this, we have some indication that, despite all cues having the same count of significant / non-signicant tests in this small analysis, in a larger analysis we might find that *Squints Eyes* has the best performance, followed by *Accelerated Talking Speed*, and lastly by *Raising Eyebrows*."
   ]
  },
  {
   "cell_type": "markdown",
   "id": "db2224a7",
   "metadata": {},
   "source": [
    "# End\n",
    "Matheus Schmitz  \n",
    "USC ID: 5039286453  \n",
    "mschmitz@usc.edu   "
   ]
  }
 ],
 "metadata": {
  "kernelspec": {
   "display_name": "Python 3",
   "language": "python",
   "name": "python3"
  },
  "language_info": {
   "codemirror_mode": {
    "name": "ipython",
    "version": 3
   },
   "file_extension": ".py",
   "mimetype": "text/x-python",
   "name": "python",
   "nbconvert_exporter": "python",
   "pygments_lexer": "ipython3",
   "version": "3.7.10"
  }
 },
 "nbformat": 4,
 "nbformat_minor": 5
}
